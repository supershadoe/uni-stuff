{
  "nbformat": 4,
  "nbformat_minor": 0,
  "metadata": {
    "colab": {
      "provenance": []
    },
    "kernelspec": {
      "name": "python3",
      "display_name": "Python 3"
    },
    "language_info": {
      "name": "python"
    }
  },
  "cells": [
    {
      "cell_type": "code",
      "source": [
        "def get_matrix_input():\n",
        "  m = int(input(\"Enter the number of rows: \"))\n",
        "  mat = []\n",
        "  for i in range(m):\n",
        "    row = list(map(int, input(f\"Enter row {i+1}: \").strip().split()))\n",
        "    mat.append(row)\n",
        "  return mat\n"
      ],
      "metadata": {
        "id": "OI0wGGY_lung"
      },
      "execution_count": null,
      "outputs": []
    },
    {
      "cell_type": "code",
      "source": [
        "def get_graph_input() -> dict[str, list[str]]:\n",
        "  n = int(input(\"Enter number of vertices: \"))\n",
        "  graph = {}\n",
        "  for i in range(n):\n",
        "    d = input(\"Enter node value and connected vertices: \")\n",
        "    v, *c = d.split()\n",
        "    graph[v] = c\n",
        "  return graph"
      ],
      "metadata": {
        "id": "-KHtOJGKmJIu"
      },
      "execution_count": null,
      "outputs": []
    },
    {
      "cell_type": "code",
      "source": [
        "def get_graph_input_with_cost():\n",
        "  nodes = input(\"Enter values for the nodes: \").strip().split()\n",
        "  graph = { node: [] for node in nodes }\n",
        "  print(\"Enter cost for each edge (use - if not present)\")\n",
        "  for node in nodes:\n",
        "    costs = input(f\"From {node}: \").strip().split()\n",
        "    graph[node] = list(\n",
        "        map(\n",
        "            lambda x: (int(x[0]), x[1]),\n",
        "            filter(\n",
        "                lambda x: x[0] != \"-\",\n",
        "                map(lambda x: (x[0], x[1]), zip(costs, nodes))\n",
        "            )\n",
        "        )\n",
        "    )\n",
        "  return graph"
      ],
      "metadata": {
        "id": "CClIYHgAmOtX"
      },
      "execution_count": null,
      "outputs": []
    },
    {
      "cell_type": "markdown",
      "source": [
        "### 1a Gold mine problem"
      ],
      "metadata": {
        "id": "qDv82FJmlWJu"
      }
    },
    {
      "cell_type": "code",
      "execution_count": null,
      "metadata": {
        "id": "sWeMN5sQk2qc"
      },
      "outputs": [],
      "source": [
        "def gold_mine_solver(m, r, c):\n",
        "  n = 0\n",
        "  loc = 0\n",
        "  path = []\n",
        "  path_sum = 0\n",
        "\n",
        "  for i in range(r):\n",
        "    if m[i][0] > n:\n",
        "      n = m[i][0]\n",
        "      loc = i\n",
        "  path.append(n)\n",
        "  path_sum += n\n",
        "\n",
        "  for j in range(1, c):\n",
        "    lx = loc\n",
        "    n = 0\n",
        "    for i in range(lx - 1, min(r, lx + 2)):\n",
        "      if m[i][j] > n:\n",
        "        n = m[i][j]\n",
        "        loc = i\n",
        "    path.append(n)\n",
        "    path_sum += n\n",
        "\n",
        "  print(f\"Path: {path}\\nMax cost: {path_sum}\")"
      ]
    },
    {
      "cell_type": "code",
      "source": [
        "matrix = get_matrix_input()\n",
        "print(matrix)\n",
        "r = len(matrix)\n",
        "c = len(matrix[0])\n",
        "gold_mine_solver(matrix, r, c)"
      ],
      "metadata": {
        "colab": {
          "base_uri": "https://localhost:8080/"
        },
        "id": "10JbYxaAmeqe",
        "outputId": "55621313-3a2b-49b9-b2be-46b259ae845b"
      },
      "execution_count": null,
      "outputs": [
        {
          "output_type": "stream",
          "name": "stdout",
          "text": [
            "Enter the number of rows: 3\n",
            "Enter row 1: 2 5 9\n",
            "Enter row 2: 4 8 7\n",
            "Enter row 3: 3 5 6\n",
            "[[2, 5, 9], [4, 8, 7], [3, 5, 6]]\n",
            "Path: [4, 8, 9]\n",
            "Max cost: 21\n"
          ]
        }
      ]
    },
    {
      "cell_type": "markdown",
      "source": [
        "### 1b All paths finder"
      ],
      "metadata": {
        "id": "MlhyeNNimsFP"
      }
    },
    {
      "cell_type": "code",
      "source": [
        "def all_paths_finder(\n",
        "    graph: dict[str, list[str]],\n",
        "    start: str,\n",
        "    path: list[str],\n",
        "    end: str\n",
        ") -> list[list[str]]:\n",
        "  path = [*path, start]\n",
        "\n",
        "  if start == end:\n",
        "    paths.append(path)\n",
        "    return\n",
        "\n",
        "  visited[start] = True\n",
        "\n",
        "  for c in graph[start]:\n",
        "    if not visited[c]:\n",
        "      all_paths_finder(graph, c, path, end)"
      ],
      "metadata": {
        "id": "yPk7w3Mdm2p_"
      },
      "execution_count": null,
      "outputs": []
    },
    {
      "cell_type": "code",
      "source": [
        "graph = get_graph_input()\n",
        "s, e = input(\"Enter start and end node: \").strip().split()\n",
        "graph"
      ],
      "metadata": {
        "colab": {
          "base_uri": "https://localhost:8080/"
        },
        "id": "yiZPSqaOnGtH",
        "outputId": "fbfdbfea-8a30-41ae-9a85-be5c55e2819c"
      },
      "execution_count": null,
      "outputs": [
        {
          "name": "stdout",
          "output_type": "stream",
          "text": [
            "Enter number of vertices: 5\n",
            "Enter node value and connected vertices: A B C\n",
            "Enter node value and connected vertices: B D A\n",
            "Enter node value and connected vertices: C A D E\n",
            "Enter node value and connected vertices: D B C E\n",
            "Enter node value and connected vertices: E C D\n",
            "Enter start and end node: A D\n"
          ]
        },
        {
          "output_type": "execute_result",
          "data": {
            "text/plain": [
              "{'A': ['B', 'C'],\n",
              " 'B': ['D', 'A'],\n",
              " 'C': ['A', 'D', 'E'],\n",
              " 'D': ['B', 'C', 'E'],\n",
              " 'E': ['C', 'D']}"
            ]
          },
          "metadata": {},
          "execution_count": 7
        }
      ]
    },
    {
      "cell_type": "code",
      "source": [
        "visited = {node: False for node in graph}\n",
        "paths = []\n",
        "all_paths_finder(graph, s, [], e)\n",
        "paths"
      ],
      "metadata": {
        "colab": {
          "base_uri": "https://localhost:8080/"
        },
        "id": "wDmcfzO3nFNI",
        "outputId": "3c8e07fc-52cf-4751-b3b9-9cd59990c472"
      },
      "execution_count": null,
      "outputs": [
        {
          "output_type": "execute_result",
          "data": {
            "text/plain": [
              "[['A', 'B', 'D'], ['A', 'C', 'D'], ['A', 'C', 'E', 'D']]"
            ]
          },
          "metadata": {},
          "execution_count": 11
        }
      ]
    },
    {
      "cell_type": "markdown",
      "source": [
        "### 2a Magic square"
      ],
      "metadata": {
        "id": "VABxGYN4nPwv"
      }
    },
    {
      "cell_type": "code",
      "source": [
        "def check_magic(A: list[list], m: int) -> bool:\n",
        "  if m % 2 == 0:\n",
        "    return False\n",
        "\n",
        "  e_sum = m * ((m**2) + 1) / 2\n",
        "  print(f\"Expected sum: {e_sum}\")\n",
        "\n",
        "  for i in range(m):\n",
        "    s = sum(A[i])\n",
        "    if s != e_sum:\n",
        "      return False\n",
        "\n",
        "  for i in range(m):\n",
        "    s = 0\n",
        "    for j in range(m):\n",
        "      s += A[j][i]\n",
        "    if s != e_sum:\n",
        "      return False\n",
        "\n",
        "  s = 0\n",
        "  for i in range(m):\n",
        "    s += A[i][i]\n",
        "  if s != e_sum:\n",
        "    return False\n",
        "\n",
        "  return True"
      ],
      "metadata": {
        "id": "SiptoqI0nF63"
      },
      "execution_count": null,
      "outputs": []
    },
    {
      "cell_type": "code",
      "source": [
        "m_sq = get_matrix_input()\n",
        "if check_magic(m_sq, len(m_sq)):\n",
        "  print(\"Yes, it is a magic square\")\n",
        "else:\n",
        "  print(\"No, it is not a magic square\")"
      ],
      "metadata": {
        "colab": {
          "base_uri": "https://localhost:8080/"
        },
        "id": "4rSXkBTmniXA",
        "outputId": "5581d1d2-f9df-423b-8648-314d51ac8a88"
      },
      "execution_count": null,
      "outputs": [
        {
          "output_type": "stream",
          "name": "stdout",
          "text": [
            "Enter the number of rows: 3\n",
            "Enter row 1: 2 7 6\n",
            "Enter row 2: 9 5 1\n",
            "Enter row 3: 4 3 8\n",
            "Expected sum: 15.0\n",
            "Yes, it is a magic square\n"
          ]
        }
      ]
    },
    {
      "cell_type": "markdown",
      "source": [
        "### 2b DFS Traversal"
      ],
      "metadata": {
        "id": "fFSn6Jkxnw5Q"
      }
    },
    {
      "cell_type": "code",
      "source": [
        "def delete_node(graph: dict[str, list[str]], n: str):\n",
        "  for node in graph:\n",
        "    if n in graph[node]:\n",
        "      graph[node].remove(n)\n",
        "  del graph[n]\n",
        "\n",
        "def dfs(graph: dict[str, list[str]]) -> tuple[list[str], list[str]] | None:\n",
        "  stack = [next(iter(graph.keys()))]\n",
        "  visited = []\n",
        "  traversal_order = []\n",
        "  backtracking = False\n",
        "\n",
        "  while stack:\n",
        "    top = stack[-1]\n",
        "    if backtracking:\n",
        "      if graph.get(visited[-1]):\n",
        "        backtracking = False\n",
        "      else:\n",
        "        visited.pop()\n",
        "    else:\n",
        "      traversal_order.append(top)\n",
        "      visited.append(top)\n",
        "      stack.pop()\n",
        "      if graph.get(top):\n",
        "        for child in graph[top][::-1]:\n",
        "          stack.append(child)\n",
        "      else:\n",
        "        backtracking = True\n",
        "        visited.pop()\n",
        "        delete_node(graph, top)\n",
        "\n",
        "  return traversal_order"
      ],
      "metadata": {
        "id": "kGjh2awwnzVQ"
      },
      "execution_count": null,
      "outputs": []
    },
    {
      "cell_type": "code",
      "source": [
        "def find_sum(traversal_order):\n",
        "  traversal = list(map(lambda x: int(x.split('_')[0]), traversal_order))\n",
        "  s = 0\n",
        "  for n in traversal:\n",
        "    s += 2 if n % 2 == 0 else 1\n",
        "  return traversal, s"
      ],
      "metadata": {
        "id": "a3gH7Q0XoNXn"
      },
      "execution_count": null,
      "outputs": []
    },
    {
      "cell_type": "code",
      "source": [
        "graph = get_graph_input()\n",
        "graph"
      ],
      "metadata": {
        "colab": {
          "base_uri": "https://localhost:8080/"
        },
        "id": "tH2idbDto5Y_",
        "outputId": "299ab32b-eb32-4b13-a6cb-90b78f46a5bf"
      },
      "execution_count": null,
      "outputs": [
        {
          "name": "stdout",
          "output_type": "stream",
          "text": [
            "Enter number of vertices: 10\n",
            "Enter node value and connected vertices: 4 3 2 10\n",
            "Enter node value and connected vertices: 3 7 6\n",
            "Enter node value and connected vertices: 2 5 1\n",
            "Enter node value and connected vertices: 10 8 2_2\n",
            "Enter node value and connected vertices: 7\n",
            "Enter node value and connected vertices: 6\n",
            "Enter node value and connected vertices: 5\n",
            "Enter node value and connected vertices: 1\n",
            "Enter node value and connected vertices: 8\n",
            "Enter node value and connected vertices: 2_2\n"
          ]
        },
        {
          "output_type": "execute_result",
          "data": {
            "text/plain": [
              "{'4': ['3', '2', '10'],\n",
              " '3': ['7', '6'],\n",
              " '2': ['5', '1'],\n",
              " '10': ['8', '2_2'],\n",
              " '7': [],\n",
              " '6': [],\n",
              " '5': [],\n",
              " '1': [],\n",
              " '8': [],\n",
              " '2_2': []}"
            ]
          },
          "metadata": {},
          "execution_count": 16
        }
      ]
    },
    {
      "cell_type": "code",
      "source": [
        "find_sum(dfs(graph))"
      ],
      "metadata": {
        "colab": {
          "base_uri": "https://localhost:8080/"
        },
        "id": "x-II1mAeo7FP",
        "outputId": "96735dad-da06-43c7-c940-bae936f3ee67"
      },
      "execution_count": null,
      "outputs": [
        {
          "output_type": "execute_result",
          "data": {
            "text/plain": [
              "([4, 3, 7, 6, 2, 5, 1, 10, 8, 2], 16)"
            ]
          },
          "metadata": {},
          "execution_count": 17
        }
      ]
    },
    {
      "cell_type": "markdown",
      "source": [
        "### 3a Array rotation"
      ],
      "metadata": {
        "id": "e0qA53s0pEp3"
      }
    },
    {
      "cell_type": "code",
      "source": [
        "def shift_lst(l: list, s: int, reverse: bool = False) -> list:\n",
        "  n = len(l)\n",
        "  if reverse:\n",
        "    return [*l[(s % n):], *l[:(s % n)]]\n",
        "  else:\n",
        "    return [*l[-(s % n):], *l[:-(s % n)]]"
      ],
      "metadata": {
        "id": "jfUh8_37pCjn"
      },
      "execution_count": null,
      "outputs": []
    },
    {
      "cell_type": "code",
      "source": [
        "lst = list(map(int, input(\"Enter array elements: \").strip().split()))\n",
        "shift = int(input(\"Enter shift: \"))\n",
        "reverse = True\n",
        "\n",
        "shift_lst(lst, shift, reverse)"
      ],
      "metadata": {
        "colab": {
          "base_uri": "https://localhost:8080/"
        },
        "id": "IJBmHZqzpkJ3",
        "outputId": "43d33795-1e9b-4751-a698-72c364098062"
      },
      "execution_count": null,
      "outputs": [
        {
          "name": "stdout",
          "output_type": "stream",
          "text": [
            "Enter array elements: 23 4 56 72 98 12\n",
            "Enter shift: 2\n"
          ]
        },
        {
          "output_type": "execute_result",
          "data": {
            "text/plain": [
              "[56, 72, 98, 12, 23, 4]"
            ]
          },
          "metadata": {},
          "execution_count": 28
        }
      ]
    },
    {
      "cell_type": "markdown",
      "source": [
        "### 3b Mice hole problem"
      ],
      "metadata": {
        "id": "eFSZRN2tpn3_"
      }
    },
    {
      "cell_type": "code",
      "source": [
        "import itertools\n",
        "\n",
        "def mice_hole_solver(mice, holes):\n",
        "  least_dist = []\n",
        "  least = float('inf')\n",
        "\n",
        "  for perm in itertools.permutations(holes):\n",
        "      l = max(abs(c - ch) for c, ch in zip(mice, perm))\n",
        "      if l < least:\n",
        "          least_dist = perm\n",
        "          least = l\n",
        "      elif l == least:\n",
        "          print(least_dist, perm)\n",
        "          for c, p1, p2 in zip(mice, least_dist, perm):\n",
        "              if abs(c - p1) > abs(c - p2):\n",
        "                  break\n",
        "          else:\n",
        "              least_dist = perm\n",
        "\n",
        "  print(\"Mice\\t\\tHole\\t\\tDistance\")\n",
        "  for c, ch in zip(mice, least_dist):\n",
        "    print(c, ch, abs(c - ch), sep=\"\\t\\t\")\n",
        "\n",
        "  print(f\"Max distance: {least}\")"
      ],
      "metadata": {
        "id": "MW6On6_DppzX"
      },
      "execution_count": null,
      "outputs": []
    },
    {
      "cell_type": "code",
      "source": [
        "mice = list(map(int, input(\"Enter mice positions: \").strip().split()))\n",
        "holes = list(map(int, input(\"Enter hole positions: \").strip().split()))"
      ],
      "metadata": {
        "colab": {
          "base_uri": "https://localhost:8080/"
        },
        "id": "vWCEXjVgp4P3",
        "outputId": "19ae8054-fc86-4151-a769-9f3a1228dc1e"
      },
      "execution_count": null,
      "outputs": [
        {
          "name": "stdout",
          "output_type": "stream",
          "text": [
            "Enter mice positions: 23 -3 32 -2 45\n",
            "Enter hole positions: 20 10 35 15 50\n"
          ]
        }
      ]
    },
    {
      "cell_type": "code",
      "source": [
        "mice_hole_solver(mice, holes)"
      ],
      "metadata": {
        "colab": {
          "base_uri": "https://localhost:8080/"
        },
        "id": "V7yw8iq-qNtf",
        "outputId": "c1f50c18-6626-44d4-d469-a3a2cb6f7df7"
      },
      "execution_count": null,
      "outputs": [
        {
          "output_type": "stream",
          "name": "stdout",
          "text": [
            "(20, 10, 35, 15, 50) (35, 10, 20, 15, 50)\n",
            "Mice\t\tHole\t\tDistance\n",
            "23\t\t35\t\t12\n",
            "-3\t\t10\t\t13\n",
            "32\t\t20\t\t12\n",
            "-2\t\t15\t\t17\n",
            "45\t\t50\t\t5\n",
            "Max distance: 17\n"
          ]
        }
      ]
    },
    {
      "cell_type": "markdown",
      "source": [
        "### 4a Kronecker product"
      ],
      "metadata": {
        "id": "oOEb-ZYHqQ-H"
      }
    },
    {
      "cell_type": "code",
      "source": [
        "def kronecker(\n",
        "    A: list[list],\n",
        "    B: list[list],\n",
        "    o1: tuple[int, int],\n",
        "    o2: tuple[int, int]\n",
        ") -> list[list]:\n",
        "  m, n = o1\n",
        "  p, q = o2\n",
        "  res = [[0 for j in range(n * q)] for i in range(p * m)]\n",
        "  for i in range(m):\n",
        "    for j in range(n):\n",
        "      for k in range(p):\n",
        "        for l in range(q):\n",
        "          res[k + (i * p)][l + (j * q)] = A[i][j] * B[k][l]\n",
        "  return res"
      ],
      "metadata": {
        "id": "kvXWUayGqUdf"
      },
      "execution_count": null,
      "outputs": []
    },
    {
      "cell_type": "code",
      "source": [
        "A = get_matrix_input()\n",
        "B = get_matrix_input()\n",
        "o1 = (len(A), len(A[0]))\n",
        "o2 = (len(B), len(B[0]))\n",
        "\n",
        "kronecker(A, B, o1, o2)"
      ],
      "metadata": {
        "colab": {
          "base_uri": "https://localhost:8080/"
        },
        "id": "cbKB_ZtcqZL2",
        "outputId": "5fcc6214-0d2a-4256-8169-e953b51a6610"
      },
      "execution_count": null,
      "outputs": [
        {
          "name": "stdout",
          "output_type": "stream",
          "text": [
            "Enter the number of rows: 2\n",
            "Enter row 1: 1 2\n",
            "Enter row 2: 3 4\n",
            "Enter the number of rows: 2\n",
            "Enter row 1: 1 5\n",
            "Enter row 2: 6 7\n"
          ]
        },
        {
          "output_type": "execute_result",
          "data": {
            "text/plain": [
              "[[1, 5, 2, 10], [6, 7, 12, 14], [3, 15, 4, 20], [18, 21, 24, 28]]"
            ]
          },
          "metadata": {},
          "execution_count": 38
        }
      ]
    },
    {
      "cell_type": "markdown",
      "source": [
        "### 4b BFS with more than one goal"
      ],
      "metadata": {
        "id": "uldc9XbBqh4_"
      }
    },
    {
      "cell_type": "code",
      "source": [
        "def bfs(graph: dict[str, list[str]], start: str, end: str):\n",
        "  fringe = []\n",
        "  visited = {node: False for node in graph}\n",
        "  parent = {}\n",
        "\n",
        "  fringe.append(start)\n",
        "  parent[start] = None\n",
        "  print(\"BFS Table\")\n",
        "\n",
        "  paths = []\n",
        "\n",
        "  while fringe:\n",
        "    node = fringe[0]\n",
        "    visited[node] = True\n",
        "    print(\n",
        "        f\"Node: {node}\\n\"\n",
        "        f\"Fringe: {fringe}\\n\"\n",
        "        f\"Visited: {[k for k, v in filter(lambda i: i[1], visited.items())]}\\n\"\n",
        "        f\"Goal test: {node == end}\\n\"\n",
        "    )\n",
        "    fringe.pop(0)\n",
        "    if node == end:\n",
        "      path = []\n",
        "      p = node\n",
        "      while p is not None:\n",
        "        path.insert(0, p)\n",
        "        p = parent[p]\n",
        "      visited[node] = False\n",
        "      paths.append(' -> '.join(path))\n",
        "    for child in graph[node]:\n",
        "      if not visited[child] and child not in fringe:\n",
        "        fringe.append(child)\n",
        "        parent[child] = node\n",
        "  if len(paths) == 0:\n",
        "    print('no solution')\n",
        "  else:\n",
        "    print(f\"Paths: {paths}\")"
      ],
      "metadata": {
        "id": "AjkYxtEJqqpv"
      },
      "execution_count": null,
      "outputs": []
    },
    {
      "cell_type": "code",
      "source": [
        "graph = get_graph_input()\n",
        "graph"
      ],
      "metadata": {
        "colab": {
          "base_uri": "https://localhost:8080/"
        },
        "id": "KP2_F4UXrRAP",
        "outputId": "0d1cd607-ecd6-4a46-c88a-ddb8ee1445bf"
      },
      "execution_count": null,
      "outputs": [
        {
          "name": "stdout",
          "output_type": "stream",
          "text": [
            "Enter number of vertices: 11\n",
            "Enter node value and connected vertices: a b c d\n",
            "Enter node value and connected vertices: b l g\n",
            "Enter node value and connected vertices: c m g_2 i\n",
            "Enter node value and connected vertices: d g_3 k\n",
            "Enter node value and connected vertices: l\n",
            "Enter node value and connected vertices: g\n",
            "Enter node value and connected vertices: m\n",
            "Enter node value and connected vertices: g_2\n",
            "Enter node value and connected vertices: i\n",
            "Enter node value and connected vertices: g_3\n",
            "Enter node value and connected vertices: k\n",
            "Enter start and end node: a g\n"
          ]
        },
        {
          "output_type": "execute_result",
          "data": {
            "text/plain": [
              "{'a': ['b', 'c', 'd'],\n",
              " 'b': ['l', 'g'],\n",
              " 'c': ['m', 'g_2', 'i'],\n",
              " 'd': ['g_3', 'k'],\n",
              " 'l': [],\n",
              " 'g': [],\n",
              " 'm': [],\n",
              " 'g_2': [],\n",
              " 'i': [],\n",
              " 'g_3': [],\n",
              " 'k': []}"
            ]
          },
          "metadata": {},
          "execution_count": 55
        }
      ]
    },
    {
      "cell_type": "code",
      "source": [
        "s, e = input(\"Enter start and end node: \").strip().split()\n",
        "bfs(graph, s, e)"
      ],
      "metadata": {
        "colab": {
          "base_uri": "https://localhost:8080/"
        },
        "id": "nzeuLcn_xNen",
        "outputId": "768916f1-faf6-4543-ef61-06f11c5acf76"
      },
      "execution_count": null,
      "outputs": [
        {
          "output_type": "stream",
          "name": "stdout",
          "text": [
            "Enter start and end node: a g\n",
            "BFS Table\n",
            "Node: a\n",
            "Fringe: ['a']\n",
            "Visited: ['a']\n",
            "Goal test: False\n",
            "\n",
            "Node: b\n",
            "Fringe: ['b', 'c', 'd']\n",
            "Visited: ['a', 'b']\n",
            "Goal test: False\n",
            "\n",
            "Node: c\n",
            "Fringe: ['c', 'd', 'l', 'g']\n",
            "Visited: ['a', 'b', 'c']\n",
            "Goal test: False\n",
            "\n",
            "Node: d\n",
            "Fringe: ['d', 'l', 'g', 'm', 'g_2', 'i']\n",
            "Visited: ['a', 'b', 'c', 'd']\n",
            "Goal test: False\n",
            "\n",
            "Node: l\n",
            "Fringe: ['l', 'g', 'm', 'g_2', 'i', 'g_3', 'k']\n",
            "Visited: ['a', 'b', 'c', 'd', 'l']\n",
            "Goal test: False\n",
            "\n",
            "Node: g\n",
            "Fringe: ['g', 'm', 'g_2', 'i', 'g_3', 'k']\n",
            "Visited: ['a', 'b', 'c', 'd', 'l', 'g']\n",
            "Goal test: True\n",
            "\n",
            "Node: m\n",
            "Fringe: ['m', 'g_2', 'i', 'g_3', 'k']\n",
            "Visited: ['a', 'b', 'c', 'd', 'l', 'm']\n",
            "Goal test: False\n",
            "\n",
            "Node: g_2\n",
            "Fringe: ['g_2', 'i', 'g_3', 'k']\n",
            "Visited: ['a', 'b', 'c', 'd', 'l', 'm', 'g_2']\n",
            "Goal test: False\n",
            "\n",
            "Node: i\n",
            "Fringe: ['i', 'g_3', 'k']\n",
            "Visited: ['a', 'b', 'c', 'd', 'l', 'm', 'g_2', 'i']\n",
            "Goal test: False\n",
            "\n",
            "Node: g_3\n",
            "Fringe: ['g_3', 'k']\n",
            "Visited: ['a', 'b', 'c', 'd', 'l', 'm', 'g_2', 'i', 'g_3']\n",
            "Goal test: False\n",
            "\n",
            "Node: k\n",
            "Fringe: ['k']\n",
            "Visited: ['a', 'b', 'c', 'd', 'l', 'm', 'g_2', 'i', 'g_3', 'k']\n",
            "Goal test: False\n",
            "\n",
            "Paths: ['a -> b -> g']\n"
          ]
        }
      ]
    },
    {
      "cell_type": "code",
      "source": [
        "s, e = input(\"Enter start and end node: \").strip().split()\n",
        "bfs(graph, s, e)"
      ],
      "metadata": {
        "colab": {
          "base_uri": "https://localhost:8080/"
        },
        "id": "9875am6zxNSf",
        "outputId": "806dcef4-2817-46f7-e2f2-57ae46a511a9"
      },
      "execution_count": null,
      "outputs": [
        {
          "output_type": "stream",
          "name": "stdout",
          "text": [
            "Enter start and end node: a g_2\n",
            "BFS Table\n",
            "Node: a\n",
            "Fringe: ['a']\n",
            "Visited: ['a']\n",
            "Goal test: False\n",
            "\n",
            "Node: b\n",
            "Fringe: ['b', 'c', 'd']\n",
            "Visited: ['a', 'b']\n",
            "Goal test: False\n",
            "\n",
            "Node: c\n",
            "Fringe: ['c', 'd', 'l', 'g']\n",
            "Visited: ['a', 'b', 'c']\n",
            "Goal test: False\n",
            "\n",
            "Node: d\n",
            "Fringe: ['d', 'l', 'g', 'm', 'g_2', 'i']\n",
            "Visited: ['a', 'b', 'c', 'd']\n",
            "Goal test: False\n",
            "\n",
            "Node: l\n",
            "Fringe: ['l', 'g', 'm', 'g_2', 'i', 'g_3', 'k']\n",
            "Visited: ['a', 'b', 'c', 'd', 'l']\n",
            "Goal test: False\n",
            "\n",
            "Node: g\n",
            "Fringe: ['g', 'm', 'g_2', 'i', 'g_3', 'k']\n",
            "Visited: ['a', 'b', 'c', 'd', 'l', 'g']\n",
            "Goal test: False\n",
            "\n",
            "Node: m\n",
            "Fringe: ['m', 'g_2', 'i', 'g_3', 'k']\n",
            "Visited: ['a', 'b', 'c', 'd', 'l', 'g', 'm']\n",
            "Goal test: False\n",
            "\n",
            "Node: g_2\n",
            "Fringe: ['g_2', 'i', 'g_3', 'k']\n",
            "Visited: ['a', 'b', 'c', 'd', 'l', 'g', 'm', 'g_2']\n",
            "Goal test: True\n",
            "\n",
            "Node: i\n",
            "Fringe: ['i', 'g_3', 'k']\n",
            "Visited: ['a', 'b', 'c', 'd', 'l', 'g', 'm', 'i']\n",
            "Goal test: False\n",
            "\n",
            "Node: g_3\n",
            "Fringe: ['g_3', 'k']\n",
            "Visited: ['a', 'b', 'c', 'd', 'l', 'g', 'm', 'i', 'g_3']\n",
            "Goal test: False\n",
            "\n",
            "Node: k\n",
            "Fringe: ['k']\n",
            "Visited: ['a', 'b', 'c', 'd', 'l', 'g', 'm', 'i', 'g_3', 'k']\n",
            "Goal test: False\n",
            "\n",
            "Paths: ['a -> c -> g_2']\n"
          ]
        }
      ]
    },
    {
      "cell_type": "code",
      "source": [
        "s, e = input(\"Enter start and end node: \").strip().split()\n",
        "bfs(graph, s, e)"
      ],
      "metadata": {
        "colab": {
          "base_uri": "https://localhost:8080/"
        },
        "id": "NjouKyp5rbmn",
        "outputId": "fdea2d3c-60bb-4d19-bca7-3b9c279176d3"
      },
      "execution_count": null,
      "outputs": [
        {
          "output_type": "stream",
          "name": "stdout",
          "text": [
            "Enter start and end node: a g_3\n",
            "BFS Table\n",
            "Node: a\n",
            "Fringe: ['a']\n",
            "Visited: ['a']\n",
            "Goal test: False\n",
            "\n",
            "Node: b\n",
            "Fringe: ['b', 'c', 'd']\n",
            "Visited: ['a', 'b']\n",
            "Goal test: False\n",
            "\n",
            "Node: c\n",
            "Fringe: ['c', 'd', 'l', 'g']\n",
            "Visited: ['a', 'b', 'c']\n",
            "Goal test: False\n",
            "\n",
            "Node: d\n",
            "Fringe: ['d', 'l', 'g', 'm', 'g_2', 'i']\n",
            "Visited: ['a', 'b', 'c', 'd']\n",
            "Goal test: False\n",
            "\n",
            "Node: l\n",
            "Fringe: ['l', 'g', 'm', 'g_2', 'i', 'g_3', 'k']\n",
            "Visited: ['a', 'b', 'c', 'd', 'l']\n",
            "Goal test: False\n",
            "\n",
            "Node: g\n",
            "Fringe: ['g', 'm', 'g_2', 'i', 'g_3', 'k']\n",
            "Visited: ['a', 'b', 'c', 'd', 'l', 'g']\n",
            "Goal test: False\n",
            "\n",
            "Node: m\n",
            "Fringe: ['m', 'g_2', 'i', 'g_3', 'k']\n",
            "Visited: ['a', 'b', 'c', 'd', 'l', 'g', 'm']\n",
            "Goal test: False\n",
            "\n",
            "Node: g_2\n",
            "Fringe: ['g_2', 'i', 'g_3', 'k']\n",
            "Visited: ['a', 'b', 'c', 'd', 'l', 'g', 'm', 'g_2']\n",
            "Goal test: False\n",
            "\n",
            "Node: i\n",
            "Fringe: ['i', 'g_3', 'k']\n",
            "Visited: ['a', 'b', 'c', 'd', 'l', 'g', 'm', 'g_2', 'i']\n",
            "Goal test: False\n",
            "\n",
            "Node: g_3\n",
            "Fringe: ['g_3', 'k']\n",
            "Visited: ['a', 'b', 'c', 'd', 'l', 'g', 'm', 'g_2', 'i', 'g_3']\n",
            "Goal test: True\n",
            "\n",
            "Node: k\n",
            "Fringe: ['k']\n",
            "Visited: ['a', 'b', 'c', 'd', 'l', 'g', 'm', 'g_2', 'i', 'k']\n",
            "Goal test: False\n",
            "\n",
            "Paths: ['a -> d -> g_3']\n"
          ]
        }
      ]
    },
    {
      "cell_type": "markdown",
      "source": [
        "### 5a Swap diagonals and print sum of diagonals"
      ],
      "metadata": {
        "id": "9MFQxY77rxzH"
      }
    },
    {
      "cell_type": "code",
      "source": [
        "def swap_and_sum(m):\n",
        "  n = len(m)\n",
        "  i, j = 0, n - 1\n",
        "  r = 0\n",
        "  s = 0\n",
        "  while i < n:\n",
        "    m[r][i], m[r][j] = m[r][j], m[r][i]\n",
        "    s += m[r][i] + m[r][j]\n",
        "    i, j, r = i + 1, j - 1, r + 1\n",
        "  return m, s"
      ],
      "metadata": {
        "id": "3q75FL6Grdzv"
      },
      "execution_count": null,
      "outputs": []
    },
    {
      "cell_type": "code",
      "source": [
        "matrix = get_matrix_input()\n",
        "matrix"
      ],
      "metadata": {
        "colab": {
          "base_uri": "https://localhost:8080/"
        },
        "id": "-t7krIKnssl_",
        "outputId": "c3c497b1-efe3-4910-dfe1-64f497975f9f"
      },
      "execution_count": null,
      "outputs": [
        {
          "name": "stdout",
          "output_type": "stream",
          "text": [
            "Enter the number of rows: 2\n",
            "Enter row 1: 1 2\n",
            "Enter row 2: 3 4\n"
          ]
        },
        {
          "output_type": "execute_result",
          "data": {
            "text/plain": [
              "[[1, 2], [3, 4]]"
            ]
          },
          "metadata": {},
          "execution_count": 46
        }
      ]
    },
    {
      "cell_type": "code",
      "source": [
        "swap_and_sum(matrix)"
      ],
      "metadata": {
        "colab": {
          "base_uri": "https://localhost:8080/"
        },
        "id": "KJTTAdmssvB_",
        "outputId": "7d161430-685e-48ec-a0cb-f03d6c5c223f"
      },
      "execution_count": null,
      "outputs": [
        {
          "output_type": "execute_result",
          "data": {
            "text/plain": [
              "([[2, 1], [4, 3]], 10)"
            ]
          },
          "metadata": {},
          "execution_count": 47
        }
      ]
    },
    {
      "cell_type": "markdown",
      "source": [
        "### 5b UCS"
      ],
      "metadata": {
        "id": "6xFto5KlswxG"
      }
    },
    {
      "cell_type": "code",
      "source": [
        "import heapq\n",
        "\n",
        "def find_path(end_node, visited):\n",
        "  path = []\n",
        "  node = end_node\n",
        "  while node is not None:\n",
        "    path.append(node)\n",
        "    node = visited[node][1]\n",
        "  return path[::-1]\n",
        "\n",
        "def ucs(graph, start_node, end_node):\n",
        "  min_priority_q = [(0, start_node)]\n",
        "  visited = {start_node: (0, None)}\n",
        "  while min_priority_q:\n",
        "    cost, node = heapq.heappop(min_priority_q)\n",
        "    if node == end_node:\n",
        "      return cost, find_path(node, visited)\n",
        "\n",
        "    for n_cost, n in graph[node]:\n",
        "      total_cost = cost + n_cost\n",
        "      if n not in visited or total_cost < visited[n][0]:\n",
        "        visited[n] = (total_cost, node)\n",
        "        heapq.heappush(min_priority_q, (total_cost, n))\n",
        "  return None"
      ],
      "metadata": {
        "id": "9fXzoCUcsylu"
      },
      "execution_count": null,
      "outputs": []
    },
    {
      "cell_type": "code",
      "source": [
        "graph = get_graph_input_with_cost()\n",
        "s, e = input(\"Enter start and end node: \").strip().split()\n",
        "graph"
      ],
      "metadata": {
        "colab": {
          "base_uri": "https://localhost:8080/"
        },
        "id": "ljSOeIXLtO5v",
        "outputId": "0774f7f3-45dc-4507-bb82-135480b2fafd"
      },
      "execution_count": null,
      "outputs": [
        {
          "name": "stdout",
          "output_type": "stream",
          "text": [
            "Enter values for the nodes: M L N Q P G\n",
            "Enter cost for each edge (use - if not present)\n",
            "From M: - 8 10 - - -\n",
            "From L: - - - 12 - -\n",
            "From N: - - - - 9 -\n",
            "From Q: - - - - - 13\n",
            "From P: - - - - - 10\n",
            "From G: - - - - - -\n",
            "Enter start and end node: M G\n"
          ]
        },
        {
          "output_type": "execute_result",
          "data": {
            "text/plain": [
              "{'M': [(8, 'L'), (10, 'N')],\n",
              " 'L': [(12, 'Q')],\n",
              " 'N': [(9, 'P')],\n",
              " 'Q': [(13, 'G')],\n",
              " 'P': [(10, 'G')],\n",
              " 'G': []}"
            ]
          },
          "metadata": {},
          "execution_count": 52
        }
      ]
    },
    {
      "cell_type": "code",
      "source": [
        "result = ucs(graph, s, e)\n",
        "\n",
        "if result:\n",
        "    total_cost, path = result\n",
        "    print(f\"Least cost path from {s} to {e}: {' -> '.join(path)} with total cost {total_cost}\")\n",
        "else:\n",
        "    print(f\"No path found from {s} to {e}\")"
      ],
      "metadata": {
        "colab": {
          "base_uri": "https://localhost:8080/"
        },
        "id": "DzFW9NqstRjP",
        "outputId": "065bbd52-85a5-4a7e-e42e-2aa0900073d3"
      },
      "execution_count": null,
      "outputs": [
        {
          "output_type": "stream",
          "name": "stdout",
          "text": [
            "Least cost path from M to G: M -> N -> P -> G with total cost 29\n"
          ]
        }
      ]
    }
  ]
}