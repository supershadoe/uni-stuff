{
 "cells": [
  {
   "cell_type": "code",
   "execution_count": 1,
   "metadata": {
    "colab": {
     "base_uri": "https://localhost:8080/"
    },
    "executionInfo": {
     "elapsed": 2090,
     "status": "ok",
     "timestamp": 1741670234311,
     "user": {
      "displayName": "Krishna P",
      "userId": "12743241892859037393"
     },
     "user_tz": -330
    },
    "id": "Wj0quZBQnrr8",
    "outputId": "14498fdb-c300-4c33-ebcb-95bec2c4422a"
   },
   "outputs": [],
   "source": [
    "def minimax(\n",
    "    cur_depth: int,\n",
    "    i: int,\n",
    "    target_depth: int,\n",
    "    utility: list[int],\n",
    "    branch_count: int,\n",
    "    max_turn: bool,\n",
    ") -> int:\n",
    "  if cur_depth == target_depth:\n",
    "    return utility[i]\n",
    "  val: int | None = None\n",
    "  for j in range(branch_count):\n",
    "    new_i = (i * branch_count) + j\n",
    "    if new_i >= len(utility):\n",
    "      continue\n",
    "    cur = minimax(\n",
    "      cur_depth + 1,\n",
    "      new_i,\n",
    "      target_depth,\n",
    "      utility,\n",
    "      branch_count,\n",
    "      not max_turn,\n",
    "    )\n",
    "    if val is None:\n",
    "      val = cur\n",
    "    else:\n",
    "      val = max(cur, val) if max_turn else min(cur, val)\n",
    "  return val # type: ignore"
   ]
  },
  {
   "cell_type": "code",
   "execution_count": 2,
   "metadata": {},
   "outputs": [],
   "source": [
    "import math"
   ]
  },
  {
   "cell_type": "code",
   "execution_count": 3,
   "metadata": {},
   "outputs": [
    {
     "name": "stdin",
     "output_type": "stream",
     "text": [
      "Enter utility:  4 6 0 9 15 14 5 16 1 3 2 7 13 11 12 8\n",
      "Enter the branching factor:  4\n"
     ]
    },
    {
     "name": "stdout",
     "output_type": "stream",
     "text": [
      "The optimal value is 8\n"
     ]
    }
   ],
   "source": [
    "utility = [\n",
    "    int(s) for s in input(\"Enter utility: \").strip().split()\n",
    "]\n",
    "branch_count = int(input(\"Enter the branching factor: \"))\n",
    "tree_depth = math.ceil(math.log(len(utility), branch_count))\n",
    "\n",
    "res = minimax(0, 0, tree_depth, utility, branch_count, True)\n",
    "print(f\"The optimal value is {res}\")"
   ]
  }
 ],
 "metadata": {
  "colab": {
   "authorship_tag": "ABX9TyPKjb6w6Dd9K4hZYsS7WESm",
   "provenance": []
  },
  "kernelspec": {
   "display_name": "Python 3 (ipykernel)",
   "language": "python",
   "name": "python3"
  },
  "language_info": {
   "codemirror_mode": {
    "name": "ipython",
    "version": 3
   },
   "file_extension": ".py",
   "mimetype": "text/x-python",
   "name": "python",
   "nbconvert_exporter": "python",
   "pygments_lexer": "ipython3",
   "version": "3.13.2"
  }
 },
 "nbformat": 4,
 "nbformat_minor": 4
}
