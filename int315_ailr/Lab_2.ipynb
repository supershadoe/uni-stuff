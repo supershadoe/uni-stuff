{
  "nbformat": 4,
  "nbformat_minor": 0,
  "metadata": {
    "colab": {
      "provenance": []
    },
    "kernelspec": {
      "name": "python3",
      "display_name": "Python 3"
    },
    "language_info": {
      "name": "python"
    }
  },
  "cells": [
    {
      "cell_type": "code",
      "execution_count": null,
      "metadata": {
        "id": "KGQASd3j6C5j",
        "colab": {
          "base_uri": "https://localhost:8080/"
        },
        "outputId": "781a7dc2-ca31-4951-a3b9-696cf6db3d88"
      },
      "outputs": [
        {
          "output_type": "execute_result",
          "data": {
            "text/plain": [
              "[['a', 'b', 'c'], ['a', 'd', 'c'], ['a', 'd', 'e', 'c']]"
            ]
          },
          "metadata": {},
          "execution_count": 1
        }
      ],
      "source": [
        "# @title All possible paths from one node to another\n",
        "\n",
        "graph = {\n",
        "    'a': ['b', 'd'],\n",
        "    'b': ['a', 'c'],\n",
        "    'c': ['b', 'd', 'e'],\n",
        "    'd': ['a', 'c', 'e'],\n",
        "    'e': ['c', 'd'],\n",
        "}\n",
        "\n",
        "visited = {node: False for node in graph}\n",
        "\n",
        "paths = []\n",
        "\n",
        "def search_df(\n",
        "    graph: dict[str, list[str]],\n",
        "    start: str,\n",
        "    path: list[str],\n",
        "    end: str\n",
        ") -> list[list[str]]:\n",
        "  path = [*path, start]\n",
        "\n",
        "  if start == end:\n",
        "    paths.append(path)\n",
        "    return\n",
        "\n",
        "  visited[start] = True\n",
        "\n",
        "  for c in graph[start]:\n",
        "    if not visited[c]:\n",
        "      search_df(graph, c, path, end)\n",
        "\n",
        "search_df(graph, 'a', [], 'c')\n",
        "paths"
      ]
    },
    {
      "cell_type": "code",
      "source": [
        "# @title Same prob with user input for graph\n",
        "\n",
        "n = int(input(\"Enter number of vertices: \"))\n",
        "graph = {}\n",
        "for i in range(n):\n",
        "  d = input(\"Enter node value and connected vertices: \")\n",
        "  v, *c = d.split()\n",
        "  graph[v] = c\n",
        "\n",
        "visited = {node: False for node in graph}\n",
        "\n",
        "paths = []\n",
        "start = 'a'\n",
        "end = 'c'\n",
        "search_df(graph, start, [], end)\n",
        "paths"
      ],
      "metadata": {
        "colab": {
          "base_uri": "https://localhost:8080/"
        },
        "id": "8O0bw-XQNV9c",
        "outputId": "cd296a16-0b56-4c93-b7fb-8f947d37931a"
      },
      "execution_count": null,
      "outputs": [
        {
          "name": "stdout",
          "output_type": "stream",
          "text": [
            "Enter number of vertices: 5\n",
            "Enter node value and connected vertices: a b d\n",
            "Enter node value and connected vertices: b a c\n",
            "Enter node value and connected vertices: c b d e\n",
            "Enter node value and connected vertices: d a c e\n",
            "Enter node value and connected vertices: e c d\n"
          ]
        },
        {
          "output_type": "execute_result",
          "data": {
            "text/plain": [
              "[['a', 'b', 'c'], ['a', 'd', 'c'], ['a', 'd', 'e', 'c']]"
            ]
          },
          "metadata": {},
          "execution_count": 2
        }
      ]
    },
    {
      "cell_type": "markdown",
      "source": [
        "### Mice hole problem\n",
        "\n",
        "For a given set of positions of children and chocolates, find the combination\n",
        "of children and chocolates which give the optimal number of steps taken.\n",
        "\n",
        "One child can go for one chocolate at a time, all children take the chocolates at the same time.\n",
        "\n",
        "Also, find the maximum number of steps taken."
      ],
      "metadata": {
        "id": "dh3jpDc0GtwS"
      }
    },
    {
      "cell_type": "code",
      "source": [
        "children = [4, -2, 3]\n",
        "chocolates = [3, 4, 5]\n",
        "\n",
        "least_dist = []\n",
        "\n",
        "for c in children:\n",
        "  least = float('inf')\n",
        "  for ch in chocolates:\n",
        "    if abs(c - ch) < abs(c - least):\n",
        "      least = ch\n",
        "  chocolates.remove(least)\n",
        "  least_dist.append(least)\n",
        "\n",
        "print(\"Children\\tChocolate\\tDistance\")\n",
        "for c, ch in zip(children, least_dist):\n",
        "  print(c, ch, abs(c - ch), sep=\"\\t\\t\")\n",
        "\n",
        "print(f\"Max distance: {max(least_dist)}\")"
      ],
      "metadata": {
        "colab": {
          "base_uri": "https://localhost:8080/"
        },
        "id": "FX1rE2PgGnDj",
        "outputId": "3a51aa0e-1785-428f-8be1-7cbb21f12f79"
      },
      "execution_count": null,
      "outputs": [
        {
          "output_type": "stream",
          "name": "stdout",
          "text": [
            "Children\tChocolate\tDistance\n",
            "4\t\t4\t\t0\n",
            "-2\t\t3\t\t5\n",
            "3\t\t5\t\t2\n",
            "Max distance: 5\n"
          ]
        }
      ]
    }
  ]
}