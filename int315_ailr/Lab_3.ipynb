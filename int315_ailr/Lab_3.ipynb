{
  "nbformat": 4,
  "nbformat_minor": 0,
  "metadata": {
    "colab": {
      "provenance": []
    },
    "kernelspec": {
      "name": "python3",
      "display_name": "Python 3"
    },
    "language_info": {
      "name": "python"
    }
  },
  "cells": [
    {
      "cell_type": "markdown",
      "source": [
        "### Breadth first search"
      ],
      "metadata": {
        "id": "8HMl3rb4sSIr"
      }
    },
    {
      "cell_type": "code",
      "execution_count": 1,
      "metadata": {
        "colab": {
          "base_uri": "https://localhost:8080/"
        },
        "id": "0mczCYa0fsaY",
        "outputId": "ed1786f5-892d-4daf-cf7c-aa355f51d9e8"
      },
      "outputs": [
        {
          "name": "stdout",
          "output_type": "stream",
          "text": [
            "Enter number of vertices: 5\n",
            "Enter node value and connected vertices: a b d\n",
            "Enter node value and connected vertices: b a c\n",
            "Enter node value and connected vertices: c b d e\n",
            "Enter node value and connected vertices: d a c e\n",
            "Enter node value and connected vertices: e c d\n"
          ]
        }
      ],
      "source": [
        "n = int(input(\"Enter number of vertices: \"))\n",
        "graph = {}\n",
        "for i in range(n):\n",
        "  d = input(\"Enter node value and connected vertices: \")\n",
        "  v, *c = d.split()\n",
        "  graph[v] = c"
      ]
    },
    {
      "cell_type": "code",
      "source": [
        "graph"
      ],
      "metadata": {
        "colab": {
          "base_uri": "https://localhost:8080/"
        },
        "id": "LyIog_0SwBKp",
        "outputId": "4825ae6b-4a06-41ac-efb6-98275592d065"
      },
      "execution_count": 9,
      "outputs": [
        {
          "output_type": "execute_result",
          "data": {
            "text/plain": [
              "{'a': ['b', 'd'],\n",
              " 'b': ['a', 'c'],\n",
              " 'c': ['b', 'd', 'e'],\n",
              " 'd': ['a', 'c', 'e'],\n",
              " 'e': ['c', 'd']}"
            ]
          },
          "metadata": {},
          "execution_count": 9
        }
      ]
    },
    {
      "cell_type": "code",
      "source": [
        "from collections import deque\n",
        "\n",
        "def bfs(graph: dict[str, list[str]], start: str, end: str):\n",
        "  fringe = deque()\n",
        "  visited = {node: False for node in graph}\n",
        "  parent = {}\n",
        "\n",
        "  fringe.append(start)\n",
        "  parent[start] = None\n",
        "  print(\"BFS Table\")\n",
        "\n",
        "  while fringe:\n",
        "    node = fringe[0]\n",
        "    visited[node] = True\n",
        "    print(\n",
        "        f\"Node: {node}\\n\"\n",
        "        f\"Fringe: {fringe}\\n\"\n",
        "        f\"Visited: {[k for k, v in filter(lambda i: i[1], visited.items())]}\\n\"\n",
        "        f\"Goal test: {node == end}\\n\"\n",
        "    )\n",
        "    fringe.popleft()\n",
        "    if node == end:\n",
        "      path = deque()\n",
        "      p = node\n",
        "      while p is not None:\n",
        "        path.appendleft(p)\n",
        "        p = parent[p]\n",
        "      print('Path: ' + ' -> '.join(path))\n",
        "      return\n",
        "    for child in graph[node]:\n",
        "      if not visited[child] and child not in fringe:\n",
        "        fringe.append(child)\n",
        "        parent[child] = node\n",
        "  print('no solution')"
      ],
      "metadata": {
        "id": "URRVXon-sOId"
      },
      "execution_count": 50,
      "outputs": []
    },
    {
      "cell_type": "code",
      "source": [
        "bfs(graph, 'a', 'e')"
      ],
      "metadata": {
        "colab": {
          "base_uri": "https://localhost:8080/"
        },
        "id": "RHlb89UOvMvA",
        "outputId": "5363bcc2-93cb-4c2e-c8df-9f8cf028ac60"
      },
      "execution_count": 51,
      "outputs": [
        {
          "output_type": "stream",
          "name": "stdout",
          "text": [
            "BFS Table\n",
            "Node: a\n",
            "Fringe: deque(['a'])\n",
            "Visited: ['a']\n",
            "Goal test: False\n",
            "\n",
            "Node: b\n",
            "Fringe: deque(['b', 'd'])\n",
            "Visited: ['a', 'b']\n",
            "Goal test: False\n",
            "\n",
            "Node: d\n",
            "Fringe: deque(['d', 'c'])\n",
            "Visited: ['a', 'b', 'd']\n",
            "Goal test: False\n",
            "\n",
            "Node: c\n",
            "Fringe: deque(['c', 'e'])\n",
            "Visited: ['a', 'b', 'c', 'd']\n",
            "Goal test: False\n",
            "\n",
            "Node: e\n",
            "Fringe: deque(['e'])\n",
            "Visited: ['a', 'b', 'c', 'd', 'e']\n",
            "Goal test: True\n",
            "\n",
            "Path: a -> d -> e\n"
          ]
        }
      ]
    },
    {
      "cell_type": "markdown",
      "source": [
        "### Path finder in matrix\n",
        "Given a matrix of nxn, find the path that costs the most from left to right while considering only the nodes surrounding the current node."
      ],
      "metadata": {
        "id": "vB1_azGZ0KkY"
      }
    },
    {
      "cell_type": "code",
      "source": [
        "m = [\n",
        "    [1, 8, 4],\n",
        "    [3, 7, 2],\n",
        "    [8, 3, 1],\n",
        "]\n",
        "r = 3\n",
        "c = 3"
      ],
      "metadata": {
        "id": "nn5TODXk0Zbj"
      },
      "execution_count": 55,
      "outputs": []
    },
    {
      "cell_type": "code",
      "source": [
        "n = 0\n",
        "loc = 0\n",
        "path = []\n",
        "path_sum = 0\n",
        "\n",
        "for i in range(r):\n",
        "  if m[i][0] > n:\n",
        "    n = m[i][0]\n",
        "    loc = i\n",
        "path.append(n)\n",
        "path_sum += n\n",
        "\n",
        "for j in range(1, c):\n",
        "  lx = loc\n",
        "  n = 0\n",
        "  for i in range(lx - 1, min(r, lx + 2)):\n",
        "    if m[i][j] > n:\n",
        "      n = m[i][j]\n",
        "      loc = i\n",
        "  path.append(n)\n",
        "  path_sum += n\n",
        "\n",
        "print(f\"Path: {path}\\nMax cost: {path_sum}\")"
      ],
      "metadata": {
        "colab": {
          "base_uri": "https://localhost:8080/"
        },
        "id": "lTrpNAyJ02_I",
        "outputId": "6b9f3bc1-8194-42ba-94cb-87294cd25818"
      },
      "execution_count": 58,
      "outputs": [
        {
          "output_type": "stream",
          "name": "stdout",
          "text": [
            "Path: [8, 7, 4]\n",
            "Max cost: 19\n"
          ]
        }
      ]
    }
  ]
}