{
  "nbformat": 4,
  "nbformat_minor": 0,
  "metadata": {
    "colab": {
      "provenance": []
    },
    "kernelspec": {
      "name": "python3",
      "display_name": "Python 3"
    },
    "language_info": {
      "name": "python"
    }
  },
  "cells": [
    {
      "cell_type": "markdown",
      "source": [
        "### Exercise 5\n",
        "\n",
        "N-Queen Problem"
      ],
      "metadata": {
        "id": "fd-feX14VFjh"
      }
    },
    {
      "cell_type": "code",
      "source": [
        "def is_safe(mat, row, col):\n",
        "  n = len(mat)\n",
        "  # Col wise\n",
        "  for i in range(row):\n",
        "    if mat[i][col]:\n",
        "      return False\n",
        "  # Row wise\n",
        "  for i, j in zip(range(row-1, -1, -1), range(col-1, -1, -1)):\n",
        "    if mat[i][j]:\n",
        "      return False\n",
        "  # Diagonal\n",
        "  for i, j in zip(range(row-1, -1, -1), range(col+1, n)):\n",
        "    if mat[i][j]:\n",
        "      return False\n",
        "  return True"
      ],
      "metadata": {
        "id": "p4br-SVwVHmB"
      },
      "execution_count": 1,
      "outputs": []
    },
    {
      "cell_type": "code",
      "source": [
        "def place_queens(row, mat):\n",
        "  m = [*mat]\n",
        "  if row == n:\n",
        "    ans = []\n",
        "    for i in range(n):\n",
        "      for j in range(n):\n",
        "        if m[i][j]:\n",
        "          ans.append(j + 1)\n",
        "    solutions.append(ans)\n",
        "    return\n",
        "\n",
        "  for i in range(n):\n",
        "    if is_safe(m, row, i):\n",
        "      m[row][i] = 1\n",
        "      place_queens(row + 1, m)\n",
        "      m[row][i] = 0"
      ],
      "metadata": {
        "id": "1O6Se8nSC9eR"
      },
      "execution_count": 2,
      "outputs": []
    },
    {
      "cell_type": "code",
      "source": [
        "def n_queen(n):\n",
        "  mat = [[0 for _ in range(n)] for _ in range(n)]\n",
        "  place_queens(0, mat)\n",
        "  for soln in solutions:\n",
        "    print(soln)\n",
        "  print(f\"Number of solutions: {len(solutions)}\")"
      ],
      "metadata": {
        "id": "F1mZgcEXC6cN"
      },
      "execution_count": 3,
      "outputs": []
    },
    {
      "cell_type": "code",
      "source": [
        "n = int(input(\"Enter the number of queens: \"))\n",
        "solutions = []\n",
        "n_queen(n)"
      ],
      "metadata": {
        "colab": {
          "base_uri": "https://localhost:8080/"
        },
        "id": "N8G7AdD0C4vB",
        "outputId": "befe4031-9c41-41fb-93e7-0025f1b6fbee"
      },
      "execution_count": 4,
      "outputs": [
        {
          "output_type": "stream",
          "name": "stdout",
          "text": [
            "Enter the number of queens: 4\n",
            "[2, 4, 1, 3]\n",
            "[3, 1, 4, 2]\n",
            "Number of solutions: 2\n"
          ]
        }
      ]
    }
  ]
}