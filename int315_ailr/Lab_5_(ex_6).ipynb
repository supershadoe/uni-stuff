{
  "nbformat": 4,
  "nbformat_minor": 0,
  "metadata": {
    "colab": {
      "provenance": []
    },
    "kernelspec": {
      "name": "python3",
      "display_name": "Python 3"
    },
    "language_info": {
      "name": "python"
    }
  },
  "cells": [
    {
      "cell_type": "code",
      "execution_count": 1,
      "metadata": {
        "id": "K7kcsv5nflvp"
      },
      "outputs": [],
      "source": [
        "def is_safe(\n",
        "    node: str,\n",
        "    color: int,\n",
        "    graph: dict[str, list[str]],\n",
        "    colors: dict[str, int],\n",
        ") -> bool:\n",
        "  for child in graph[node]:\n",
        "      if color == colors.get(child):\n",
        "          return False\n",
        "  return True"
      ]
    },
    {
      "cell_type": "code",
      "source": [
        "def color(\n",
        "  i: int,\n",
        "  graph: dict[str, list[str]],\n",
        "  colors: dict[str, int],\n",
        "  m: int,\n",
        ") -> bool:\n",
        "  if i == len(graph):\n",
        "    return True\n",
        "  node = [*graph.keys()][i]\n",
        "  for j in range(0, m):\n",
        "    if is_safe(node, j, graph, colors):\n",
        "      colors[node] = j\n",
        "      if color(i+1, graph, colors, m):\n",
        "        return True\n",
        "      node.register = None\n",
        "\n",
        "  return False"
      ],
      "metadata": {
        "id": "UCvklDE4__pd"
      },
      "execution_count": 2,
      "outputs": []
    },
    {
      "cell_type": "code",
      "source": [
        "def graph_coloring(graph: dict[str, list[str]], color_count: int) -> None:\n",
        "  colors = { node: None for node in graph }\n",
        "  if not color(0, graph, colors, color_count):\n",
        "    print(\"No solution found\")\n",
        "    return\n",
        "  print(\"Allocated colors:\")\n",
        "  for node, col in colors.items():\n",
        "    print(f\"{node} = {col}\")"
      ],
      "metadata": {
        "id": "xGD59y5lAQf_"
      },
      "execution_count": 3,
      "outputs": []
    },
    {
      "cell_type": "code",
      "source": [
        "def get_graph_input() -> dict[str, list[str]]:\n",
        "  n = int(input(\"Enter number of vertices: \"))\n",
        "  graph = {}\n",
        "  for i in range(n):\n",
        "    d = input(\"Enter node value and connected vertices: \")\n",
        "    v, *c = d.split()\n",
        "    graph[v] = c\n",
        "  return graph"
      ],
      "metadata": {
        "id": "AspTOKE_A4XE"
      },
      "execution_count": 4,
      "outputs": []
    },
    {
      "cell_type": "code",
      "source": [
        "graph = get_graph_input()\n",
        "m = int(input(\"Enter number of colors: \"))"
      ],
      "metadata": {
        "colab": {
          "base_uri": "https://localhost:8080/"
        },
        "id": "uzG13cppA-e1",
        "outputId": "bfbb0455-08e1-4f90-d5c8-b5802131a807"
      },
      "execution_count": 5,
      "outputs": [
        {
          "name": "stdout",
          "output_type": "stream",
          "text": [
            "Enter number of vertices: 4\n",
            "Enter node value and connected vertices: A B C D\n",
            "Enter node value and connected vertices: B A C\n",
            "Enter node value and connected vertices: C A B D\n",
            "Enter node value and connected vertices: D A C\n",
            "Enter number of colors: 3\n"
          ]
        }
      ]
    },
    {
      "cell_type": "code",
      "source": [
        "graph_coloring(graph, m)"
      ],
      "metadata": {
        "colab": {
          "base_uri": "https://localhost:8080/"
        },
        "id": "MWVUJx3jCL0t",
        "outputId": "f2888049-c873-4c33-e59a-b8de3ee35be3"
      },
      "execution_count": 6,
      "outputs": [
        {
          "output_type": "stream",
          "name": "stdout",
          "text": [
            "Allocated colors:\n",
            "A = 0\n",
            "B = 1\n",
            "C = 2\n",
            "D = 1\n"
          ]
        }
      ]
    }
  ]
}