{
  "nbformat": 4,
  "nbformat_minor": 0,
  "metadata": {
    "colab": {
      "provenance": []
    },
    "kernelspec": {
      "name": "python3",
      "display_name": "Python 3"
    },
    "language_info": {
      "name": "python"
    }
  },
  "cells": [
    {
      "cell_type": "markdown",
      "source": [
        "### Expt 7\n",
        "Constraint satisfaction problem (CSP)"
      ],
      "metadata": {
        "id": "UQm4vIn7Rvzs"
      }
    },
    {
      "cell_type": "code",
      "source": [
        "!pip install python-constraint"
      ],
      "metadata": {
        "colab": {
          "base_uri": "https://localhost:8080/"
        },
        "id": "ip0sCltpTM9M",
        "outputId": "31c22d00-cb2b-4a30-fead-b836adab99be"
      },
      "execution_count": null,
      "outputs": [
        {
          "output_type": "stream",
          "name": "stdout",
          "text": [
            "Defaulting to user installation because normal site-packages is not writeable\n",
            "Requirement already satisfied: python-constraint in c:\\users\\sastra\\appdata\\roaming\\python\\python311\\site-packages (1.4.0)\n"
          ]
        }
      ]
    },
    {
      "cell_type": "markdown",
      "source": [
        "Two variable constraint"
      ],
      "metadata": {
        "id": "X9YP1oxIaQEG"
      }
    },
    {
      "cell_type": "code",
      "source": [
        "domx = [12, 15, 9, 18]\n",
        "domy = [8, 12, 5, 11]\n",
        "constraint = lambda x, y: x + y >= 20"
      ],
      "metadata": {
        "id": "hudLbwobWqqt"
      },
      "execution_count": null,
      "outputs": []
    },
    {
      "cell_type": "code",
      "execution_count": null,
      "metadata": {
        "id": "BwFcVafHLyTD"
      },
      "outputs": [],
      "source": [
        "def csp(x, y, constraint):\n",
        "  for i in range(len(y)):\n",
        "    for x1, y1 in zip(x, y[i:] + y[:i]):\n",
        "      if constraint(x1, y1):\n",
        "        yield x1, y1"
      ]
    },
    {
      "cell_type": "code",
      "source": [
        "print(\"Solutions\")\n",
        "count = 0\n",
        "for solution in csp(domx, domy, constraint):\n",
        "  print(solution)\n",
        "  count += 1\n",
        "print(f\"Number of solutions: {count}\")"
      ],
      "metadata": {
        "colab": {
          "base_uri": "https://localhost:8080/"
        },
        "id": "ZrRfF1AzNGac",
        "outputId": "c2a56ceb-4ff9-489e-de40-cdfb4427a9f5"
      },
      "execution_count": null,
      "outputs": [
        {
          "output_type": "stream",
          "name": "stdout",
          "text": [
            "Solutions\n",
            "(12, 8)\n",
            "(15, 12)\n",
            "(18, 11)\n",
            "(12, 12)\n",
            "(15, 5)\n",
            "(9, 11)\n",
            "(18, 8)\n",
            "(15, 11)\n",
            "(18, 12)\n",
            "(12, 11)\n",
            "(15, 8)\n",
            "(9, 12)\n",
            "(18, 5)\n",
            "Number of solutions: 13\n"
          ]
        }
      ]
    },
    {
      "cell_type": "markdown",
      "source": [
        "Solution using python-constraint pacakge (generalized for n variables)"
      ],
      "metadata": {
        "id": "xUyH3OIbaTzN"
      }
    },
    {
      "cell_type": "code",
      "source": [
        "import constraint\n",
        "problem = constraint.Problem()\n",
        "problem.addVariable('x', domx)\n",
        "problem.addVariable('y', domy)\n",
        "problem.addConstraint(lambda x, y: x + y >= 20, ['x', 'y'])\n",
        "count = 0\n",
        "for solution in problem.getSolutionIter():\n",
        "  print(solution)\n",
        "  count += 1\n",
        "print(f\"Number of solutions: {count}\")"
      ],
      "metadata": {
        "colab": {
          "base_uri": "https://localhost:8080/"
        },
        "id": "MsAr7wxTVb-k",
        "outputId": "589e5a10-fd25-41c1-c506-ddbfd76eab68"
      },
      "execution_count": null,
      "outputs": [
        {
          "output_type": "stream",
          "name": "stdout",
          "text": [
            "{'x': 18, 'y': 11}\n",
            "{'x': 18, 'y': 5}\n",
            "{'x': 18, 'y': 12}\n",
            "{'x': 18, 'y': 8}\n",
            "{'x': 9, 'y': 11}\n",
            "{'x': 9, 'y': 12}\n",
            "{'x': 15, 'y': 5}\n",
            "{'x': 15, 'y': 8}\n",
            "{'x': 15, 'y': 11}\n",
            "{'x': 15, 'y': 12}\n",
            "{'x': 12, 'y': 8}\n",
            "{'x': 12, 'y': 11}\n",
            "{'x': 12, 'y': 12}\n",
            "Number of solutions: 13\n"
          ]
        }
      ]
    }
  ]
}