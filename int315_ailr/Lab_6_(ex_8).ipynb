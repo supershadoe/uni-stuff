{
  "nbformat": 4,
  "nbformat_minor": 0,
  "metadata": {
    "colab": {
      "provenance": [],
      "history_visible": true
    },
    "kernelspec": {
      "name": "python3",
      "display_name": "Python 3"
    },
    "language_info": {
      "name": "python"
    }
  },
  "cells": [
    {
      "cell_type": "markdown",
      "source": [
        "### Exercise 8\n",
        "\n",
        "Cryptarithmetic Puzzle"
      ],
      "metadata": {
        "id": "XFUw4Vpialfe"
      }
    },
    {
      "cell_type": "code",
      "execution_count": 5,
      "metadata": {
        "id": "wta-pgHragrc"
      },
      "outputs": [],
      "source": [
        "import itertools\n",
        "\n",
        "def calculate_val(word: str, sub: dict[str, int]) -> int:\n",
        "  s = 0\n",
        "  f = 1\n",
        "  for l in word[::-1]:\n",
        "    s += f * sub[l]\n",
        "    f *= 10\n",
        "  return s\n",
        "\n",
        "def crypt_arith():\n",
        "  a = input(\"Enter word one: \")\n",
        "  b = input(\"Enter word two: \")\n",
        "  ans = input(\"Enter result word: \")\n",
        "  letters = [*set(c for c in itertools.chain(a, b, ans))]\n",
        "  digits = range(10)\n",
        "  for perm in itertools.permutations(digits, len(letters)):\n",
        "    sub = dict(zip(letters, perm))\n",
        "    if (\n",
        "        sum((calculate_val(a, sub), calculate_val(b, sub)))\n",
        "        == calculate_val(ans, sub)\n",
        "    ):\n",
        "      for letter in a:\n",
        "        print(sub[letter], end=\"\")\n",
        "      print(\" + \", end=\"\")\n",
        "      for letter in b:\n",
        "        print(sub[letter], end=\"\")\n",
        "      print(\" = \", end=\"\")\n",
        "      for letter in ans:\n",
        "        print(sub[letter], end=\"\")\n",
        "      print()"
      ]
    },
    {
      "cell_type": "code",
      "source": [
        "crypt_arith()"
      ],
      "metadata": {
        "colab": {
          "base_uri": "https://localhost:8080/"
        },
        "id": "hnUlV1Rsap_9",
        "outputId": "8f103e49-9e8c-4be6-81ec-5f9c7eb0380b"
      },
      "execution_count": 6,
      "outputs": [
        {
          "output_type": "stream",
          "name": "stdout",
          "text": [
            "Enter word one: two\n",
            "Enter word two: two\n",
            "Enter result word: four\n",
            "418 + 418 = 0836\n",
            "428 + 428 = 0856\n",
            "928 + 928 = 1856\n",
            "132 + 132 = 0264\n",
            "234 + 234 = 0468\n",
            "734 + 734 = 1468\n",
            "836 + 836 = 1672\n",
            "438 + 438 = 0876\n",
            "938 + 938 = 1876\n",
            "346 + 346 = 0692\n",
            "846 + 846 = 1692\n",
            "357 + 357 = 0714\n",
            "459 + 459 = 0918\n",
            "765 + 765 = 1530\n",
            "867 + 867 = 1734\n",
            "469 + 469 = 0938\n",
            "173 + 173 = 0346\n",
            "479 + 479 = 0958\n",
            "193 + 193 = 0386\n"
          ]
        }
      ]
    },
    {
      "cell_type": "code",
      "source": [
        "crypt_arith()"
      ],
      "metadata": {
        "colab": {
          "base_uri": "https://localhost:8080/"
        },
        "id": "WGVKr4bFdLKN",
        "outputId": "fd798a17-cfe3-43fd-f0df-015b3cc1bada"
      },
      "execution_count": 7,
      "outputs": [
        {
          "output_type": "stream",
          "name": "stdout",
          "text": [
            "Enter word one: base\n",
            "Enter word two: ball\n",
            "Enter result word: games\n",
            "2461 + 2455 = 04916\n",
            "2483 + 2455 = 04938\n",
            "7483 + 7455 = 14938\n"
          ]
        }
      ]
    },
    {
      "cell_type": "code",
      "source": [
        "crypt_arith()"
      ],
      "metadata": {
        "colab": {
          "base_uri": "https://localhost:8080/"
        },
        "id": "Bd4Kb_1nexW-",
        "outputId": "1f707782-8336-49a7-b965-e761b7aa6b26"
      },
      "execution_count": 8,
      "outputs": [
        {
          "output_type": "stream",
          "name": "stdout",
          "text": [
            "Enter word one: give\n",
            "Enter word two: more\n",
            "Enter result word: money\n",
            "9386 + 1076 = 10462\n",
            "9486 + 1076 = 10562\n",
            "9376 + 1086 = 10462\n",
            "9476 + 1086 = 10562\n",
            "2794 + 0354 = 03148\n",
            "2754 + 0394 = 03148\n",
            "3758 + 0428 = 04186\n",
            "3769 + 0429 = 04198\n",
            "3728 + 0458 = 04186\n",
            "3729 + 0469 = 04198\n",
            "5781 + 0631 = 06412\n",
            "5731 + 0681 = 06412\n",
            "6534 + 0714 = 07248\n",
            "6459 + 0739 = 07198\n",
            "6514 + 0734 = 07248\n",
            "6394 + 0754 = 07148\n",
            "6439 + 0759 = 07198\n",
            "6354 + 0794 = 07148\n",
            "7546 + 0816 = 08362\n",
            "7692 + 0832 = 08524\n",
            "7293 + 0843 = 08136\n",
            "7516 + 0846 = 08362\n",
            "7461 + 0851 = 08312\n",
            "7451 + 0861 = 08312\n",
            "7243 + 0893 = 08136\n",
            "7632 + 0892 = 08524\n",
            "8357 + 0917 = 09274\n",
            "8523 + 0913 = 09436\n",
            "8513 + 0923 = 09436\n",
            "8317 + 0957 = 09274\n"
          ]
        }
      ]
    }
  ]
}