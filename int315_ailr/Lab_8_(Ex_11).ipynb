{
  "nbformat": 4,
  "nbformat_minor": 0,
  "metadata": {
    "colab": {
      "provenance": []
    },
    "kernelspec": {
      "name": "python3",
      "display_name": "Python 3"
    },
    "language_info": {
      "name": "python"
    }
  },
  "cells": [
    {
      "cell_type": "markdown",
      "source": [
        "Alpha-beta pruning"
      ],
      "metadata": {
        "id": "2IzGJ8CkkdxK"
      }
    },
    {
      "cell_type": "code",
      "execution_count": 22,
      "metadata": {
        "id": "JKspqtJokMID"
      },
      "outputs": [],
      "source": [
        "def minimax(\n",
        "    cur_depth: int,\n",
        "    i: int,\n",
        "    target_depth: int,\n",
        "    utility: list[int],\n",
        "    branch_count: int,\n",
        "    max_turn: bool,\n",
        "    alpha: float,\n",
        "    beta: float,\n",
        ") -> tuple[int, float, float]:\n",
        "  val = utility[i]\n",
        "  if max_turn:\n",
        "    n_alpha, n_beta = max(val, alpha), beta\n",
        "  else:\n",
        "    n_alpha, n_beta = alpha, min(val, beta)\n",
        "  val_changed = False\n",
        "\n",
        "  if cur_depth == target_depth:\n",
        "    if max_turn:\n",
        "      return val, alpha, n_beta\n",
        "    else:\n",
        "      return val, n_alpha, beta\n",
        "  if n_alpha >= n_beta:\n",
        "    print(alpha, beta, n_alpha, n_beta, val)\n",
        "    return val, alpha, beta\n",
        "\n",
        "  for j in range(branch_count):\n",
        "    new_i = (i * branch_count) + j\n",
        "    if new_i >= len(utility):\n",
        "      continue\n",
        "    cur, na, nb = minimax(\n",
        "      cur_depth + 1,\n",
        "      new_i,\n",
        "      target_depth,\n",
        "      utility,\n",
        "      branch_count,\n",
        "      not max_turn,\n",
        "      n_alpha,\n",
        "      n_beta,\n",
        "    )\n",
        "    if max_turn:\n",
        "      n_alpha = max(na, n_alpha)\n",
        "    else:\n",
        "      n_beta = min(nb, n_beta)\n",
        "    if not val_changed:\n",
        "      val_changed = True\n",
        "      val = cur\n",
        "    else:\n",
        "      val = max(cur, val) if max_turn else min(cur, val)\n",
        "\n",
        "  return val, n_alpha, n_beta"
      ]
    },
    {
      "cell_type": "code",
      "source": [
        "import math"
      ],
      "metadata": {
        "id": "Tkj79YpYki_Z"
      },
      "execution_count": 2,
      "outputs": []
    },
    {
      "cell_type": "code",
      "source": [
        "utility = [\n",
        "    int(s) for s in input(\"Enter utility: \").strip().split()\n",
        "]\n",
        "branch_count = int(input(\"Enter the branching factor: \"))\n",
        "tree_depth = math.ceil(math.log(len(utility), branch_count))"
      ],
      "metadata": {
        "colab": {
          "base_uri": "https://localhost:8080/"
        },
        "id": "HdfJq7mLkhgq",
        "outputId": "d02a5c32-1eff-4b63-f909-1305be66353c"
      },
      "execution_count": 3,
      "outputs": [
        {
          "name": "stdout",
          "output_type": "stream",
          "text": [
            "Enter utility: 4 6 0 9 15 14 5 16 1 3 2 7 13 11 12 8\n",
            "Enter the branching factor: 4\n"
          ]
        }
      ]
    },
    {
      "cell_type": "code",
      "source": [
        "val, *_ = minimax(\n",
        "    0, 0, tree_depth, utility, branch_count, True, float('-inf'), float('inf')\n",
        ")\n",
        "print(f\"The optimal value is {val}\")"
      ],
      "metadata": {
        "colab": {
          "base_uri": "https://localhost:8080/"
        },
        "id": "5XSC9ZdAkuQC",
        "outputId": "ef737c80-052f-4526-bc5f-9a912cd56b1c"
      },
      "execution_count": 23,
      "outputs": [
        {
          "output_type": "stream",
          "name": "stdout",
          "text": [
            "4 inf 4 4 4\n",
            "4 inf 4 0 0\n",
            "The optimal value is 8\n"
          ]
        }
      ]
    }
  ]
}