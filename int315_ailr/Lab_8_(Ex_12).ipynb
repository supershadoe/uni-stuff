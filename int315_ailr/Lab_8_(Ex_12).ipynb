{
  "nbformat": 4,
  "nbformat_minor": 0,
  "metadata": {
    "colab": {
      "provenance": []
    },
    "kernelspec": {
      "name": "python3",
      "display_name": "Python 3"
    },
    "language_info": {
      "name": "python"
    }
  },
  "cells": [
    {
      "cell_type": "markdown",
      "source": [
        "### Connection problem"
      ],
      "metadata": {
        "id": "5-T5amKOUAT5"
      }
    },
    {
      "cell_type": "code",
      "source": [
        "from typing import NamedTuple\n",
        "\n",
        "class Edge(NamedTuple):\n",
        "  src: str\n",
        "  dest: str\n",
        "  diameter: int"
      ],
      "metadata": {
        "id": "3rxJft_yVa6h"
      },
      "execution_count": null,
      "outputs": []
    },
    {
      "cell_type": "code",
      "source": [
        "def get_graph_edges():\n",
        "  n = int(input(\"Enter number of edges: \"))\n",
        "  graph = []\n",
        "  print(\"Enter source, dest and diameter of pipes.\")\n",
        "  for i in range(n):\n",
        "    graph.append(input().strip().split())\n",
        "  return [*map(lambda x: Edge(x[0], x[1], x[2]), graph)]"
      ],
      "metadata": {
        "id": "adznXRKSV55a"
      },
      "execution_count": null,
      "outputs": []
    },
    {
      "cell_type": "code",
      "execution_count": null,
      "metadata": {
        "id": "qu_JMbO-R35R"
      },
      "outputs": [],
      "source": [
        "def dfs_visit(graph, edge, visited, new_graph):\n",
        "  visited.add(edge.src)\n",
        "  mod_edge = edge\n",
        "\n",
        "  if edge.dest in visited:\n",
        "    return mod_edge\n",
        "\n",
        "  terminal = True\n",
        "  for new_edge in graph:\n",
        "    if new_edge.src == edge.dest:\n",
        "      terminal = False\n",
        "      mod_edge = dfs_visit(graph, new_edge, visited, new_graph)\n",
        "      mod_edge = Edge(\n",
        "        edge.src, mod_edge.dest, min(edge.diameter, mod_edge.diameter)\n",
        "      )\n",
        "      for i, n in enumerate(new_graph):\n",
        "        if n.src == mod_edge.dest:\n",
        "          mod_edge = Edge(\n",
        "              mod_edge.src, n.dest, min(mod_edge.diameter, n.diameter)\n",
        "          )\n",
        "          new_graph[i] = mod_edge\n",
        "\n",
        "  if terminal:\n",
        "    visited.add(edge.dest)\n",
        "\n",
        "  return mod_edge\n",
        "\n",
        "def dfs(graph):\n",
        "  new_graph = []\n",
        "  visited = set()\n",
        "  for edge in graph:\n",
        "    if edge.src not in visited:\n",
        "      new_edge = dfs_visit(graph, edge, visited, new_graph)\n",
        "      if new_edge not in new_graph:\n",
        "        new_graph.append(new_edge)\n",
        "  return new_graph"
      ]
    },
    {
      "cell_type": "code",
      "source": [
        "graph = get_graph_edges()"
      ],
      "metadata": {
        "colab": {
          "base_uri": "https://localhost:8080/"
        },
        "id": "Zw0lH177VPxx",
        "outputId": "77efde0c-b16c-43a3-9b05-305b37f92d85"
      },
      "execution_count": null,
      "outputs": [
        {
          "name": "stdout",
          "output_type": "stream",
          "text": [
            "Enter number of edges: 6\n",
            "Enter source, dest and diameter of pipes.\n",
            "7 4 98\n",
            "5 9 72\n",
            "4 6 10\n",
            "2 8 22\n",
            "9 7 17\n",
            "3 1 66\n"
          ]
        }
      ]
    },
    {
      "cell_type": "code",
      "source": [
        "res = sorted(dfs(graph), key=lambda x: x.src)\n",
        "print(len(res))\n",
        "for conn in res:\n",
        "  print(conn)"
      ],
      "metadata": {
        "colab": {
          "base_uri": "https://localhost:8080/"
        },
        "id": "DzW2Q5q0WmpS",
        "outputId": "7e55e181-ff21-4863-d76b-8edf215f992d"
      },
      "execution_count": null,
      "outputs": [
        {
          "output_type": "stream",
          "name": "stdout",
          "text": [
            "3\n",
            "Edge(src='2', dest='8', diameter='22')\n",
            "Edge(src='3', dest='1', diameter='66')\n",
            "Edge(src='5', dest='6', diameter='10')\n"
          ]
        }
      ]
    }
  ]
}