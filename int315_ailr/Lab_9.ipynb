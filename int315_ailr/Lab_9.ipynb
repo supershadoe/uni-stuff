{
  "nbformat": 4,
  "nbformat_minor": 0,
  "metadata": {
    "colab": {
      "provenance": []
    },
    "kernelspec": {
      "name": "python3",
      "display_name": "Python 3"
    },
    "language_info": {
      "name": "python"
    }
  },
  "cells": [
    {
      "cell_type": "markdown",
      "source": [
        "### Cotton prob\n",
        "\n",
        "AKA Rotting oranges problem"
      ],
      "metadata": {
        "id": "c3XK8hepnn5V"
      }
    },
    {
      "cell_type": "code",
      "execution_count": null,
      "metadata": {
        "id": "TpMuKn30Z1XG"
      },
      "outputs": [],
      "source": [
        "EMPTY_CELL = 0\n",
        "DRY_COTTON = 1\n",
        "WET_COTTON = 2\n",
        "\n",
        "def cotton_prob(matrix: list[list[int]]):\n",
        "  changes_made = True\n",
        "  while changes_made:\n",
        "    changes_made = False\n",
        "    m = len(matrix)\n",
        "    for i in range(m):\n",
        "      n = len(matrix[i])\n",
        "      for j in range(n):\n",
        "        if matrix[i][j] == WET_COTTON:\n",
        "          if i > 0 and matrix[i-1][j] == DRY_COTTON:\n",
        "            changes_made = True\n",
        "            matrix[i-1][j] = WET_COTTON\n",
        "          if i < m - 1 and matrix[i+1][j] == DRY_COTTON:\n",
        "            changes_made = True\n",
        "            matrix[i+1][j] = WET_COTTON\n",
        "          if j > 0 and matrix[i][j-1] == DRY_COTTON:\n",
        "            changes_made = True\n",
        "            matrix[i][j-1] = WET_COTTON\n",
        "          if j < n - 1 and matrix[i][j+1] == DRY_COTTON:\n",
        "            changes_made = True\n",
        "            matrix[i][j+1] = WET_COTTON"
      ]
    },
    {
      "cell_type": "code",
      "source": [
        "def get_matrix_input() -> list[list[int]]:\n",
        "  matrix = []\n",
        "  m = int(input(\"Enter the number of rows: \"))\n",
        "  for i in range(m):\n",
        "    row = list(map(int, input(f\"Row {i+1}: \").strip().split()))\n",
        "    matrix.append(row)\n",
        "  return matrix"
      ],
      "metadata": {
        "id": "h_KlF5PSdpmb"
      },
      "execution_count": null,
      "outputs": []
    },
    {
      "cell_type": "code",
      "source": [
        "matrix = get_matrix_input()"
      ],
      "metadata": {
        "colab": {
          "base_uri": "https://localhost:8080/"
        },
        "id": "nKFaHwbOd-oD",
        "outputId": "ebeac974-b95b-45d1-8215-f5792b3e866b"
      },
      "execution_count": null,
      "outputs": [
        {
          "name": "stdout",
          "output_type": "stream",
          "text": [
            "Enter the number of rows: 3\n",
            "Row 1: 2 0 0\n",
            "Row 2: 1 1 2\n",
            "Row 3: 0 1 0\n"
          ]
        }
      ]
    },
    {
      "cell_type": "code",
      "source": [
        "cotton_prob(matrix)\n",
        "matrix"
      ],
      "metadata": {
        "colab": {
          "base_uri": "https://localhost:8080/"
        },
        "id": "2-DLYHVqepD7",
        "outputId": "99c6d50d-5f46-4712-bcce-e5ca593fbafa"
      },
      "execution_count": null,
      "outputs": [
        {
          "output_type": "execute_result",
          "data": {
            "text/plain": [
              "[[2, 0, 0], [2, 2, 2], [0, 2, 0]]"
            ]
          },
          "metadata": {},
          "execution_count": 9
        }
      ]
    }
  ]
}